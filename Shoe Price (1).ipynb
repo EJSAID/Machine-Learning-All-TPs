{
 "cells": [
  {
   "cell_type": "code",
   "execution_count": null,
   "metadata": {},
   "outputs": [],
   "source": [
    "!pip install numpy\n",
    "!pip install pandas"
   ]
  },
  {
   "cell_type": "markdown",
   "metadata": {},
   "source": [
    "1. `!pip install numpy`:\r\n",
    "   - Cette ligne installe la bibliothèque NumPy en utilisant le gestionnaire de packages pip de Python.\r\n",
    "   - NumPy est une bibliothèque fondamentale pour le calcul numérique en Python, offrant des structures de données et des fonctions pour travailler efficacement avec des tableaux et des matrices.\r\n",
    "\r\n",
    "2. `!pip install pandas`:\r\n",
    "   - Cette ligne installe la bibliothèque pandas en utilisant le gestionnaire de packages pip de Python.\r\n",
    "   - Pandas est une bibliothèque populaire pour la manipulation et l'analyse des données en Python, offrant des structures de données flexibles (comme les DataFrames) pour travailler avec des données tabulaires et des séries chronologiques.\r\n"
   ]
  },
  {
   "cell_type": "code",
   "execution_count": null,
   "metadata": {},
   "outputs": [],
   "source": [
    "import numpy as np\n",
    "import pandas as pd\n",
    "import matplotlib.pyplot as plt\n",
    "import seaborn as sns"
   ]
  },
  {
   "cell_type": "markdown",
   "metadata": {},
   "source": [
    "1. `import numpy as np`:\r\n",
    "   - Cette ligne importe la bibliothèque NumPy sous le pseudonyme `np`, ce qui est une pratique courante pour rendre le code plus concis en utilisant des abréviations.\r\n",
    "   - NumPy est une bibliothèque fondamentale pour le calcul numérique en Python, offrant des structures de données et des fonctions pour travailler efficacement avec des tableaux et des matrices.\r\n",
    "\r\n",
    "2. `import pandas as pd`:\r\n",
    "   - Cette ligne importe la bibliothèque pandas sous le pseudonyme `pd`, une bibliothèque populaire pour la manipulation et l'analyse des données en Python, offrant des structures de données flexibles (comme les DataFrames) pour travailler avec des données tabulaires et des séries chronologiques.\r\n",
    "\r\n",
    "3. `import matplotlib.pyplot as plt`:\r\n",
    "   - Cette ligne importe la sous-bibliothèque pyplot de Matplotlib sous le pseudonyme `plt`, qui est souvent utilisée pour créer des graphiques et des visualisations dans Python.\r\n",
    "\r\n",
    "4. `import seaborn as sns`:\r\n",
    "   - Cette ligne importe la bibliothèque Seaborn sous le pseudonyme `sns`, qui est une extension de Matplotlib offrant des fonctionnalités supplémentaires pour la visualisation de données et la création de graphiques statistiques plus complexes.\r\n"
   ]
  },
  {
   "cell_type": "code",
   "execution_count": null,
   "metadata": {},
   "outputs": [],
   "source": [
    "shoes_dataset = pd.read_csv('Shoe prices.csv')"
   ]
  },
  {
   "cell_type": "markdown",
   "metadata": {},
   "source": [
    "1. `shoes_dataset = pd.read_csv('Shoe prices.csv')`:\r\n",
    "   - Cette ligne utilise la fonction `read_csv` de la bibliothèque pandas pour charger un fichier CSV appelé 'Shoe prices.csv' dans un DataFrame appelé `shoes_dataset`.\r\n",
    "   - Le fichier CSV doit être situé dans le même répertoire que votre notebook ou vous devez fournir le chemin complet du fichier.\r\n",
    "   - Cette opération est couramment utilisée pour importer des données tabulaires à partir de fichiers CSV dans Python pour les analyser et les manipuler à l'aide de pandas.\r\n"
   ]
  },
  {
   "cell_type": "code",
   "execution_count": null,
   "metadata": {},
   "outputs": [],
   "source": [
    "shoes_dataset.info()"
   ]
  },
  {
   "cell_type": "markdown",
   "metadata": {},
   "source": [
    "1. `shoes_dataset.info()`:\r\n",
    "   - Cette ligne utilise la méthode `info()` du DataFrame `shoes_dataset` pour afficher des informations sur les données.\r\n",
    "   - Plus précisément, cette méthode affiche des détails tels que le nombre total d'entrées, le nombre de colonnes, les noms des colonnes, le type de données de chaque colonne, et s'il y a des valeurs manquantes (NaN) dans le DataFrame.\r\n",
    "   - C'est une étape utile pour comprendre rapidement la structure des données, le type de données de chaque colonne et pour identifier d'éventuels problèmes de données manquantes.\r\n"
   ]
  },
  {
   "cell_type": "code",
   "execution_count": null,
   "metadata": {},
   "outputs": [],
   "source": [
    "shoes_dataset.columns"
   ]
  },
  {
   "cell_type": "markdown",
   "metadata": {},
   "source": [
    "1. `shoes_dataset.columns`:\r\n",
    "   - Cette ligne accède à l'attribut `columns` du DataFrame `shoes_dataset`, ce qui renvoie une liste des noms des colonnes dans le DataFrame.\r\n",
    "   - C'est utile pour connaître les noms exacts des colonnes dans votre jeu de données, ce qui peut être nécessaire lors de la manipulation ou de l'analyse des données, comme sélectionner des colonnes spécifiques, renommer des colonnes, etc.\r\n"
   ]
  },
  {
   "cell_type": "code",
   "execution_count": null,
   "metadata": {},
   "outputs": [],
   "source": [
    "shoes_dataset.isnull().sum()"
   ]
  },
  {
   "cell_type": "markdown",
   "metadata": {},
   "source": [
    "1. `shoes_dataset.isnull().sum()`:\r\n",
    "   - Cette ligne utilise la méthode `isnull()` du DataFrame `shoes_dataset` pour vérifier la présence de valeurs manquantes (NaN) dans chaque colonne du DataFrame.\r\n",
    "   - En ajoutant `.sum()` à la fin, cela calcule le nombre total de valeurs manquantes par colonne en les comptant (car les valeurs manquantes sont représentées par True dans le résultat de `isnull()` qui est équivalent à 1 lorsqu'elles sont sommées).\r\n",
    "   - C'est une étape importante pour identifier et traiter les données manquantes dans votre jeu de données, car les données manquantes peuvent affecter la qualité de vos analyses et de vos modèles.\r\n"
   ]
  },
  {
   "cell_type": "code",
   "execution_count": null,
   "metadata": {},
   "outputs": [],
   "source": [
    "shoes_dataset.describe()"
   ]
  },
  {
   "cell_type": "markdown",
   "metadata": {},
   "source": [
    "1. `shoes_dataset.describe()`:\r\n",
    "   - Cette ligne utilise la méthode `describe()` du DataFrame `shoes_dataset` pour générer des statistiques descriptives sur les colonnes numériques de votre jeu de données.\r\n",
    "   - Les statistiques générées incluent le nombre d'entrées, la moyenne, l'écart-type, les valeurs minimales et maximales, ainsi que les quartiles (25%, 50%, 75%) des données pour chaque colonne numérique.\r\n",
    "   - Cela permet d'avoir un aperçu rapide des tendances centrales et de la dispersion des données numériques, ce qui peut être utile pour comprendre la distribution des valeurs et détecter d'éventuelles anomalies ou valeurs aberrantes.\r\n"
   ]
  },
  {
   "cell_type": "code",
   "execution_count": null,
   "metadata": {},
   "outputs": [],
   "source": [
    "shoes_dataset.shape"
   ]
  },
  {
   "cell_type": "markdown",
   "metadata": {},
   "source": [
    "1. `shoes_dataset.shape`:\r\n",
    "   - Cette ligne accède à l'attribut `shape` du DataFrame `shoes_dataset`, ce qui renvoie un tuple représentant les dimensions du DataFrame.\r\n",
    "   - Plus précisément, le tuple retourné contient le nombre de lignes (nombre d'entrées) et le nombre de colonnes dans le DataFrame `shoes_dataset`.\r\n",
    "   - Connaître la forme (shape) de votre jeu de données est important pour comprendre sa taille et sa structure, ce qui peut influencer la façon dont vous manipulez et analysez les données.\r\n"
   ]
  },
  {
   "cell_type": "code",
   "execution_count": null,
   "metadata": {},
   "outputs": [],
   "source": [
    "shoes_dataset.sample(4)"
   ]
  },
  {
   "cell_type": "markdown",
   "metadata": {},
   "source": [
    "1. `shoes_dataset.sample(4)`:\r\n",
    "   - Cette ligne utilise la méthode `sample()` du DataFrame `shoes_dataset` pour sélectionner un échantillon aléatoire de 4 lignes dans le DataFrame.\r\n",
    "   - L'utilisation de `sample()` avec l'argument `4` signifie que vous souhaitez obtenir 4 lignes aléatoires de votre jeu de données.\r\n",
    "   - Cela est utile pour examiner un échantillon aléatoire de données et obtenir un aperçu de leur structure et de leur contenu, notamment lorsqu'il s'agit de jeux de données volumineux.\r\n"
   ]
  },
  {
   "cell_type": "code",
   "execution_count": null,
   "metadata": {},
   "outputs": [],
   "source": [
    "# Model\n",
    "shoes_dataset = shoe_dataset.drop('Model', axis=1)"
   ]
  },
  {
   "cell_type": "markdown",
   "metadata": {},
   "source": [
    "1. `shoes_dataset = shoe_dataset.drop('Model', axis=1)`:\r\n",
    "   - Cette ligne utilise la méthode `drop()` du DataFrame `shoe_dataset` pour supprimer la colonne 'Model' du DataFrame et stocke le résultat dans un nouveau DataFrame appelé `shoes_dataset`.\r\n",
    "   - L'argument `axis=1` spécifie que vous voulez supprimer une colonne (l'axe 1 représente les colonnes), tandis que `axis=0` serait utilisé pour supprimer des lignes.\r\n",
    "   - La suppression de colonnes peut être utile lorsqu'une colonne n'est pas nécessaire pour votre analyse ou votre modèle, ou si elle contient des données redondantes ou inutiles.\r\n"
   ]
  },
  {
   "cell_type": "code",
   "execution_count": null,
   "metadata": {},
   "outputs": [],
   "source": [
    "shoes_dataset.head()"
   ]
  },
  {
   "cell_type": "markdown",
   "metadata": {},
   "source": [
    "1. `shoes_dataset.head()`:\n",
    "   - Cette ligne utilise la méthode `head()` du DataFrame `shoes_dataset` pour afficher les premières lignes du DataFrame.\n",
    "   - Par défaut, la méthode `head()` affiche les 5 premières lignes du DataFrame, ce qui permet d'avoir un aperçu rapide des données et de leur structure.\n",
    "   - C'est une étape courante lors de l'exploration de données pour examiner les premières lignes et vérifier les noms des colonnes, les types de données et les valeurs des données.\n"
   ]
  },
  {
   "cell_type": "code",
   "execution_count": null,
   "metadata": {},
   "outputs": [],
   "source": [
    "# Brand\n",
    "shoes_dataset['Brand'].value_counts()"
   ]
  },
  {
   "cell_type": "markdown",
   "metadata": {},
   "source": [
    "1. `shoes_dataset['Brand'].value_counts()`:\r\n",
    "   - Cette ligne utilise la méthode `value_counts()` de pandas sur la colonne 'Brand' du DataFrame `shoes_dataset`.\r\n",
    "   - La méthode `value_counts()` compte le nombre d'occurrences de chaque valeur unique dans la colonne 'Brand' et renvoie ces comptages sous forme d'une série pandas, triée par ordre décroissant.\r\n",
    "   - C'est une étape utile pour comprendre la répartition des marques de chaussures dans vos données, en identifiant les marques les plus fréquentes et leur fréquence respective.\r\n"
   ]
  },
  {
   "cell_type": "code",
   "execution_count": null,
   "metadata": {},
   "outputs": [],
   "source": [
    "shoes_dataset['Brand'].value_counts().plot(kind='bar', legend='false')"
   ]
  },
  {
   "cell_type": "markdown",
   "metadata": {},
   "source": [
    "1. `shoes_dataset['Brand'].value_counts().plot(kind='bar', legend='false')`:\r\n",
    "   - Cette ligne utilise la méthode `value_counts()` pour compter le nombre d'occurrences de chaque valeur unique dans la colonne 'Brand' du DataFrame `shoes_dataset`.\r\n",
    "   - Ensuite, la méthode `plot()` est utilisée avec l'argument `kind='bar'` pour créer un graphique en barres représentant ces comptages.\r\n",
    "   - L'argument `legend='false'` est utilisé pour ne pas afficher la légende dans le graphique, car il n'y a qu'une seule série de données (les comptages de marques) et la légende n'est pas nécessaire dans ce cas.\r\n",
    "   - Cette visualisation permet de voir visuellement la distribution des marques de chaussures dans vos données sous forme de graphique à barres.\r\n"
   ]
  },
  {
   "cell_type": "code",
   "execution_count": null,
   "metadata": {},
   "outputs": [],
   "source": [
    "df['Brand'].value_counts().plot(kind='bar', legend='false')\n",
    "plt.title('Brand Counts')\n",
    "plt.xlabel('Brand names')\n",
    "plt.ylabel('Counts')\n",
    "plt.show()"
   ]
  },
  {
   "cell_type": "markdown",
   "metadata": {},
   "source": [
    "1. `df['Brand'].value_counts().plot(kind='bar', legend='false')`:\r\n",
    "   - Cette ligne utilise la méthode `value_counts()` pour compter le nombre d'occurrences de chaque valeur unique dans la colonne 'Brand' du DataFrame `df`.\r\n",
    "   - Ensuite, la méthode `plot()` est utilisée avec l'argument `kind='bar'` pour créer un graphique en barres représentant ces comptages.\r\n",
    "   - L'argument `legend='false'` est utilisé pour ne pas afficher la légende dans le graphique, car il n'y a qu'une seule série de données (les comptages de marques) et la légende n'est pas nécessaire dans ce cas.\r\n",
    "\r\n",
    "2. `plt.title('Brand Counts')`:\r\n",
    "   - Cette ligne définit le titre du graphique comme \"Brand Counts\", ce qui donne une indication sur ce que représente le graphique.\r\n",
    "\r\n",
    "3. `plt.xlabel('Brand names')` et `plt.ylabel('Counts')`:\r\n",
    "   - Ces lignes ajoutent des étiquettes aux axes x et y respectivement pour indiquer ce que chaque axe représente dans le graphique.\r\n",
    "\r\n",
    "4. `plt.show()`:\r\n",
    "   - Cette ligne affiche le graphique complet avec les données, le titre et les étiquettes d'axes.\r\n",
    "\r\n",
    "Ces lignes combinées créent un graphique en barres montrant la distribution des marques ('Brand') dans votre DataFrame `df` en fonction de leur nombre d'occurrences.\r\n"
   ]
  },
  {
   "cell_type": "code",
   "execution_count": null,
   "metadata": {},
   "outputs": [],
   "source": [
    "# Type\n",
    "shoes_dataset['Type'] = shoes_dataset['Type'].str.lower()"
   ]
  },
  {
   "cell_type": "markdown",
   "metadata": {},
   "source": [
    "1. `shoes_dataset['Type'] = shoes_dataset['Type'].str.lower()`:\r\n",
    "   - Cette ligne utilise la méthode `str.lower()` pour convertir toutes les valeurs de la colonne 'Type' du DataFrame `shoes_dataset` en minuscules.\r\n",
    "   - Cela est utile pour normaliser les valeurs de la colonne 'Type' en minuscules, ce qui facilite la comparaison et la manipulation des données, car les comparaisons de chaînes de caractères seront insensibles à la casse.\r\n",
    "   - Par exemple, si vous avez des valeurs comme 'Running', 'running', 'RUNNING', elles seront toutes converties en 'running' après cette opération.\r\n"
   ]
  },
  {
   "cell_type": "code",
   "execution_count": null,
   "metadata": {},
   "outputs": [],
   "source": [
    "shoes_dataset['Type'].value_counts()"
   ]
  },
  {
   "cell_type": "markdown",
   "metadata": {},
   "source": [
    "1. `shoes_dataset['Type'].value_counts()`:\r\n",
    "   - Cette ligne utilise la méthode `value_counts()` sur la colonne 'Type' du DataFrame `shoes_dataset`.\r\n",
    "   - La méthode `value_counts()` compte le nombre d'occurrences de chaque valeur unique dans la colonne 'Type' et renvoie ces comptages sous forme d'une série pandas, triée par ordre décroissant.\r\n",
    "   - Cela permet d'avoir un aperçu de la répartition des différents types de chaussures dans vos données, en affichant le nombre d'occurrences de chaque type.\r\n"
   ]
  },
  {
   "cell_type": "code",
   "execution_count": null,
   "metadata": {},
   "outputs": [],
   "source": [
    "shoes_dataset['Type'].value_counts().plot(kind='bar', legend='false', color = 'green')\n",
    "plt.title('New Type Counts')\n",
    "plt.xlabel('Type names')\n",
    "plt.ylabel('Counts')\n",
    "plt.show()"
   ]
  },
  {
   "cell_type": "markdown",
   "metadata": {},
   "source": [
    "1. `shoes_dataset['Type'].value_counts().plot(kind='bar', legend='false', color='green')`:\r\n",
    "   - Cette ligne utilise la méthode `value_counts()` pour compter le nombre d'occurrences de chaque valeur unique dans la colonne 'Type' du DataFrame `shoes_dataset`.\r\n",
    "   - Ensuite, la méthode `plot()` est utilisée avec l'argument `kind='bar'` pour créer un graphique en barres représentant ces comptages.\r\n",
    "   - L'argument `legend='false'` est utilisé pour ne pas afficher la légende dans le graphique, car il n'y a qu'une seule série de données (les comptages de types) et la légende n'est pas nécessaire dans ce cas.\r\n",
    "   - L'argument `color='green'` définit la couleur des barres du graphique comme vert.\r\n",
    "\r\n",
    "2. `plt.title('Type Counts')`:\r\n",
    "   - Cette ligne définit le titre du graphique comme \"Type Counts\", ce qui donne une indication sur ce que représente le graphique.\r\n",
    "\r\n",
    "3. `plt.xlabel('Type names')` et `plt.ylabel('Counts')`:\r\n",
    "   - Ces lignes ajoutent des étiquettes aux axes x et y respectivement pour indiquer ce que chaque axe représente dans le graphique.\r\n",
    "\r\n",
    "4. `plt.show()`:\r\n",
    "   - Cette ligne affiche le graphique complet avec les données, le titre et les étiquettes d'axes.\r\n",
    "\r\n",
    "Ces lignes combinées créent un graphique en barres de couleur verte montrant la distribution des différents types de chaussures dans votre DataFrame `shoes_dataset` en fonction de leur nombre d'occurrences.\r\n"
   ]
  },
  {
   "cell_type": "code",
   "execution_count": null,
   "metadata": {},
   "outputs": [],
   "source": [
    "## Gender\n",
    "shoes_dataset['Gender'].value_counts()"
   ]
  },
  {
   "cell_type": "markdown",
   "metadata": {},
   "source": [
    "1. `shoes_dataset['Gender'].value_counts()`:\r\n",
    "   - Cette ligne utilise la méthode `value_counts()` sur la colonne 'Gender' du DataFrame `shoes_dataset`.\r\n",
    "   - La méthode `value_counts()` compte le nombre d'occurrences de chaque valeur unique dans la colonne 'Gender' et renvoie ces comptages sous forme d'une série pandas, triée par ordre décroissant.\r\n",
    "   - Cela permet d'avoir un aperçu de la répartition des différents genres (homme, femme, non binaire, etc.) dans vos données, en affichant le nombre d'occurrences de chaque genre.\r\n",
    "\r\n"
   ]
  },
  {
   "cell_type": "code",
   "execution_count": null,
   "metadata": {},
   "outputs": [],
   "source": [
    "shoes_dataset['Gender'].value_counts().plot(kind='pie', autopct='%1.1f%%', startangle = 90)\n",
    "plt.title('Gender Distribution')\n",
    "plt.axis('equal')\n",
    "plt.show()"
   ]
  },
  {
   "cell_type": "markdown",
   "metadata": {},
   "source": [
    "1. `shoes_dataset['Gender'].value_counts().plot(kind='pie', autopct='%1.1f%%', startangle=90)`:\r\n",
    "   - Cette ligne utilise la méthode `value_counts()` pour compter le nombre d'occurrences de chaque valeur unique dans la colonne 'Gender' du DataFrame `shoes_dataset`.\r\n",
    "   - Ensuite, la méthode `plot()` est utilisée avec l'argument `kind='pie'` pour créer un graphique en secteurs représentant la répartition des genres.\r\n",
    "   - L'argument `autopct='%1.1f%%'` est utilisé pour afficher les pourcentages sur chaque secteur du graphique avec une précision d'un chiffre après la virgule.\r\n",
    "   - L'argument `startangle=90` définit l'angle de départ du premier secteur à 90 degrés, ce qui fait que le secteur 'hommes' est positionné en haut à gauche du graphique.\r\n",
    "\r\n",
    "2. `plt.title('Gender Distribution')`:\r\n",
    "   - Cette ligne définit le titre du graphique comme \"Gender Distribution\", ce qui donne une indication sur ce que représente le graphique.\r\n",
    "\r\n",
    "3. `plt.axis('equal')`:\r\n",
    "   - Cette ligne ajuste l'aspect du graphique pour qu'il ait un aspect de cercle (un aspect égal), ce qui est important pour les graphiques en secteurs pour éviter toute déformation.\r\n",
    "\r\n",
    "4. `plt.show()`:\r\n",
    "   - Cette ligne affiche le graphique complet avec les données, le titre et les pourcentages sur les secteurs.\r\n",
    "\r\n",
    "Ces lignes combinées créent un graphique en secteurs montrant la distribution des genres dans votre DataFrame `shoes_dataset`, avec les pourcentages indiqués sur chaque secteur.\r\n"
   ]
  },
  {
   "cell_type": "code",
   "execution_count": null,
   "metadata": {},
   "outputs": [],
   "source": [
    "## Size\n",
    "shoes_dataset['Size'] = shoes_dataset['Size'].str.replace('US','')"
   ]
  },
  {
   "cell_type": "markdown",
   "metadata": {},
   "source": [
    "1. `shoes_dataset['Size'] = shoes_dataset['Size'].str.replace('US','')`:\r\n",
    "   - Cette ligne utilise la méthode `str.replace('US','')` pour supprimer le texte 'US' de toutes les valeurs de la colonne 'Size' dans le DataFrame `shoes_dataset`.\r\n",
    "   - Cela est utile lorsque les tailles des chaussures sont enregistrées avec le préfixe 'US' et que vous souhaitez nettoyer les données pour ne conserver que les tailles numériques.\r\n",
    "   - Par exemple, si une valeur dans la colonne 'Size' était 'US9', elle serait transformée en '9' après cette opération.\r\n",
    "\r\n",
    "Cela explique comment cette ligne de code nettoie les valeurs de la colonne 'Size' dans votre DataFrame `shoes_dataset` en supprimant le préfixe 'US' pour obtenir des tailles numériques.\r\n"
   ]
  },
  {
   "cell_type": "code",
   "execution_count": null,
   "metadata": {},
   "outputs": [],
   "source": [
    "shoes_dataset.head()"
   ]
  },
  {
   "cell_type": "markdown",
   "metadata": {},
   "source": [
    "1. `shoes_dataset.head()`:\r\n",
    "   - Cette ligne de code affiche les cinq premières lignes du DataFrame `shoes_dataset` après toutes les transformations et opérations qui ont été effectuées sur les données.\r\n",
    "   - Cela permet de visualiser rapidement les premières lignes du DataFrame pour vérifier les modifications apportées, telles que le nettoyage des données, les transformations de colonnes, etc.\r\n",
    "   - Les données affichées comprennent les noms de colonnes et les valeurs pour les cinq premières entrées dans le DataFrame.\r\n",
    "\r\n",
    "Cela vous donne un aperçu des données modifiées dans votre DataFrame `shoes_dataset` après avoir appliqué la fonction `head()`.\r\n"
   ]
  },
  {
   "cell_type": "code",
   "execution_count": null,
   "metadata": {},
   "outputs": [],
   "source": [
    "shoes_dataset['Size'] = shoes_dataset['Size'].astype(float)"
   ]
  },
  {
   "cell_type": "markdown",
   "metadata": {},
   "source": [
    "1. `shoes_dataset['Size'] = shoes_dataset['Size'].astype(float)`:\r\n",
    "   - Cette ligne de code utilise la méthode `astype(float)` pour convertir les valeurs de la colonne 'Size' du DataFrame `shoes_dataset` en type float.\r\n",
    "   - La conversion en type float est utile lorsque vous avez des données numériques qui sont initialement stockées sous forme de chaînes de caractères ('string') ou d'autres types non numériques.\r\n",
    "   - Cela permet de s'assurer que les valeurs de la colonne 'Size' sont numériques et peuvent être utilisées pour des calculs mathématiques ou des analyses basées sur des nombres.\r\n",
    "\r\n",
    "Cela vous donne une explication claire de ce que fait cette ligne de code pour convertir les valeurs de la colonne 'Size' en type float dans votre DataFrame `shoes_dataset`.\r\n"
   ]
  },
  {
   "cell_type": "code",
   "execution_count": null,
   "metadata": {},
   "outputs": [],
   "source": [
    "shoes_dataset.info()"
   ]
  },
  {
   "cell_type": "markdown",
   "metadata": {},
   "source": [
    "1. `shoes_dataset.info()`:\r\n",
    "   - Cette ligne de code utilise la méthode `info()` pour afficher des informations sur le DataFrame `shoes_dataset`.\r\n",
    "   - La sortie inclut des détails tels que le nombre total d'entrées non nulles dans chaque colonne, les noms des colonnes, les types de données de chaque colonne, et la mémoire utilisée par le DataFrame.\r\n",
    "   - Ces informations sont utiles pour comprendre la structure de votre ensemble de données, notamment pour vérifier les types de données de chaque colonne et repérer les valeurs manquantes (NaN).\r\n",
    "   - Les types de données indiqués peuvent être 'int64' pour les entiers, 'float64' pour les nombres décimaux, 'object' pour les chaînes de caractères, etc.\r\n",
    "\r\n",
    "Cela vous donne une vue d'ensemble des types de données et de la structure de votre DataFrame `shoes_dataset`, ce qui est utile lors de l'exploration et de la manipulation des données.\r\n"
   ]
  },
  {
   "cell_type": "code",
   "execution_count": null,
   "metadata": {},
   "outputs": [],
   "source": [
    "## Color\n",
    "shoes_dataset['Color'] = shoes_dataset['Color'].str.lower()"
   ]
  },
  {
   "cell_type": "markdown",
   "metadata": {},
   "source": [
    "1. `shoes_dataset['Color'] = shoes_dataset['Color'].str.lower()` :\r\n",
    "   - Cette ligne de code utilise la méthode `str.lower()` pour convertir toutes les valeurs de la colonne 'Color' du DataFrame `shoes_dataset` en minuscules.\r\n",
    "   - La méthode `str.lower()` est utilisée sur une colonne de type chaîne de caractères ('string') pour normaliser la casse des chaînes de caractères.\r\n",
    "   - Cela permet de garantir que les valeurs de la colonne 'Color' sont uniformes en termes de casse (minuscules), ce qui facilite la manipulation et l'analyse des données, en évitant les problèmes de casse dans les opérations de recherche ou de filtrage.\r\n",
    "\r\n",
    "Cette ligne de code est utile lorsque vous souhaitez uniformiser la casse des données dans une colonne de chaînes de caractères, comme la colonne 'Color' dans votre DataFrame `shoes_dataset`.\r\n"
   ]
  },
  {
   "cell_type": "code",
   "execution_count": null,
   "metadata": {},
   "outputs": [],
   "source": [
    "shoes_dataset['Color'].value_counts()"
   ]
  },
  {
   "cell_type": "markdown",
   "metadata": {},
   "source": [
    "1. `shoes_dataset['Color'].value_counts()`:\r\n",
    "   - Cette ligne utilise la méthode `value_counts()` sur la colonne 'Color' du DataFrame `shoes_dataset`.\r\n",
    "   - La méthode `value_counts()` compte le nombre d'occurrences de chaque valeur unique dans la colonne 'Color' et renvoie ces comptages sous forme d'une série pandas, triée par ordre décroissant.\r\n",
    "   - Cela permet de voir la distribution des différentes couleurs utilisées pour les chaussures dans votre ensemble de données, en affichant le nombre d'occurrences de chaque couleur.\r\n",
    "\r\n",
    "Cela vous donne un aperçu de la répartition des couleurs dans la colonne 'Color' de votre DataFrame `shoes_dataset`, ce qui peut être utile pour des analyses sur les couleurs les plus couramment utilisées.\r\n"
   ]
  },
  {
   "cell_type": "code",
   "execution_count": null,
   "metadata": {},
   "outputs": [],
   "source": [
    "shoes_dataset['Color'].value_counts().plot(kind='bar', legend='false',  = 'green')\n",
    "plt.title('Color Counts')\n",
    "plt.xlabel('Color names')\n",
    "plt.ylabel('Counts')\n",
    "plt.show()"
   ]
  },
  {
   "cell_type": "markdown",
   "metadata": {},
   "source": [
    "1. `shoes_dataset['Color'].value_counts().plot(kind='bar', legend=False, color='green')`:\r\n",
    "   - Cette ligne de code utilise la méthode `value_counts()` pour compter le nombre d'occurrences de chaque valeur unique dans la colonne 'Color' du DataFrame `shoes_dataset`.\r\n",
    "   - Ensuite, la méthode `plot()` est utilisée avec l'argument `kind='bar'` pour créer un graphique en barres représentant ces comptages.\r\n",
    "   - L'argument `legend=False` est utilisé pour ne pas afficher la légende dans le graphique, car il n'y a qu'une seule série de données (les comptages de couleurs) et la légende n'est pas nécessaire dans ce cas.\r\n",
    "   - L'argument `color='green'` définit la couleur des barres du graphique comme vert.\r\n",
    "\r\n",
    "2. `plt.title('Color Counts')`:\r\n",
    "   - Cette ligne définit le titre du graphique comme \"Color Counts\", ce qui donne une indication sur ce que représente le graphique.\r\n",
    "\r\n",
    "3. `plt.xlabel('Color names')` et `plt.ylabel('Counts')`:\r\n",
    "   - Ces lignes ajoutent des étiquettes aux axes x et y respectivement pour indiquer ce que chaque axe représente dans le graphique.\r\n",
    "\r\n",
    "4. `plt.show()`:\r\n",
    "   - Cette ligne affiche le graphique complet avec les données, le titre et les étiquettes d'axes.\r\n",
    "\r\n",
    "Ces lignes combinées créent un graphique en barres de couleur verte montrant la distribution des différentes couleurs dans votre DataFrame `shoes_dataset` en fonction de leur nombre d'occurrences.\r\n"
   ]
  },
  {
   "cell_type": "code",
   "execution_count": null,
   "metadata": {},
   "outputs": [],
   "source": [
    "def add_Color(inpt):\n",
    "    if inpt=='black' or inpt=='white' or inpt=='grey' or inpt=='black/white' or inpt=='pink' :\n",
    "        return inpt\n",
    "    else :\n",
    "        return 'other'\n",
    "shoes_dataset['Color'] = shoes_dataset['Color'].apply(add_Color)"
   ]
  },
  {
   "cell_type": "markdown",
   "metadata": {},
   "source": [
    "1. Fonction `add_Color` :\r\n",
    "   - Cette fonction prend en entrée un élément `inpt` de la colonne 'Color' et vérifie s'il appartient à une liste de couleurs spécifiques ('black', 'white', 'grey', 'black/white', 'pink').\r\n",
    "   - Si `inpt` est l'une de ces couleurs spécifiques, la fonction renvoie simplement cette couleur (`inpt`).\r\n",
    "   - Sinon, la fonction renvoie la chaîne de caractères 'other'.\r\n",
    "\r\n",
    "2. `shoes_dataset['Color'] = shoes_dataset['Color'].apply(add_Color)` :\r\n",
    "   - Cette ligne applique la fonction `add_Color` à chaque élément de la colonne 'Color' du DataFrame `shoes_dataset` en utilisant la méthode `apply()`.\r\n",
    "   - La méthode `apply()` permet d'appliquer une fonction personnalisée à chaque élément d'une colonne (ou d'un DataFrame) et de remplacer les valeurs de la colonne par les valeurs renvoyées par la fonction.\r\n",
    "   - Ainsi, cette ligne remplace chaque valeur de la colonne 'Color' par le résultat de la fonction `add_Color`, qui est soit la couleur d'origine (si elle est dans la liste spécifique), soit 'other' (si elle n'est pas dans la liste).\r\n",
    "\r\n",
    "Cela montre comment la fonction `add_Color` est utilisée pour regrouper certaines couleurs spécifiques et les autres sous la catégorie 'other' dans la colonne 'Color' de votre DataFrame `shoes_dataset`.\r\n"
   ]
  },
  {
   "cell_type": "code",
   "execution_count": null,
   "metadata": {},
   "outputs": [],
   "source": [
    "shoes_dataset['Color'].value_counts()"
   ]
  },
  {
   "cell_type": "markdown",
   "metadata": {},
   "source": [
    "1. `shoes_dataset['Color'].value_counts()`:\r\n",
    "   - Cette ligne utilise la méthode `value_counts()` sur la colonne 'Color' du DataFrame `shoes_dataset`.\r\n",
    "   - La méthode `value_counts()` compte le nombre d'occurrences de chaque valeur unique dans la colonne 'Color' et renvoie ces comptages sous forme d'une série pandas, triée par ordre décroissant.\r\n",
    "   - Cela permet de voir la distribution des différentes couleurs utilisées pour les chaussures dans votre ensemble de données, en tenant compte de la fonction `add_Color` qui a regroupé certaines couleurs spécifiques sous la catégorie 'other'.\r\n",
    "\r\n",
    "Cela vous donne un aperçu de la répartition des couleurs dans la colonne 'Color' de votre DataFrame `shoes_dataset` après l'application de la fonction `add_Color`, ce qui peut être utile pour des analyses sur les couleurs les plus couramment utilisées après la transformation.\r\n"
   ]
  },
  {
   "cell_type": "code",
   "execution_count": null,
   "metadata": {},
   "outputs": [],
   "source": [
    "shoes_dataset['Color'].value_counts().plot(kind='bar', legend='false',  = 'green')\n",
    "plt.title('New Color Counts')\n",
    "plt.xlabel('Color names')\n",
    "plt.ylabel('Counts')\n",
    "plt.show()"
   ]
  },
  {
   "cell_type": "markdown",
   "metadata": {},
   "source": [
    "1. `shoes_dataset['Color'].value_counts().plot(kind='bar', legend=False, color='green')` :\r\n",
    "   - Cette ligne de code utilise la méthode `value_counts()` pour compter le nombre d'occurrences de chaque valeur unique dans la colonne 'Color' du DataFrame `shoes_dataset`.\r\n",
    "   - Ensuite, la méthode `plot()` est utilisée avec l'argument `kind='bar'` pour créer un graphique en barres représentant ces comptages.\r\n",
    "   - L'argument `legend=False` est utilisé pour ne pas afficher la légende dans le graphique, car il n'y a qu'une seule série de données (les comptages de couleurs) et la légende n'est pas nécessaire dans ce cas.\r\n",
    "   - L'argument `color='green'` définit la couleur des barres du graphique comme vert.\r\n",
    "\r\n",
    "2. `plt.title('New Color Counts')` :\r\n",
    "   - Cette ligne définit le titre du graphique comme \"New Color Counts\", ce qui donne une indication sur ce que représente le graphique.\r\n",
    "\r\n",
    "3. `plt.xlabel('Color names')` et `plt.ylabel('Counts')` :\r\n",
    "   - Ces lignes ajoutent des étiquettes aux axes x et y respectivement pour indiquer ce que chaque axe représente dans le graphique.\r\n",
    "\r\n",
    "4. `plt.show()` :\r\n",
    "   - Cette ligne affiche le graphique complet avec les données, le titre et les étiquettes d'axes.\r\n",
    "\r\n",
    "Ces lignes combinées créent un graphique en barres de couleur verte montrant la distribution des différentes couleurs dans votre DataFrame `shoes_dataset` en fonction de leur nombre d'occurrences après l'application de la fonction `add_Color`.\r\n"
   ]
  },
  {
   "cell_type": "code",
   "execution_count": null,
   "metadata": {},
   "outputs": [],
   "source": [
    "## Material\n",
    "shoes_dataset['Material'] = shoes_dataset['Material'].str.lower()"
   ]
  },
  {
   "cell_type": "markdown",
   "metadata": {},
   "source": [
    "1. `shoes_dataset['Material'] = shoes_dataset['Material'].str.lower()` :\r\n",
    "   - Cette ligne de code utilise la méthode `str.lower()` pour convertir toutes les valeurs de la colonne 'Material' du DataFrame `shoes_dataset` en minuscules.\r\n",
    "   - La méthode `str.lower()` est utilisée sur une colonne de type chaîne de caractères ('string') pour normaliser la casse des chaînes de caractères.\r\n",
    "   - Cela permet de garantir que les valeurs de la colonne 'Material' sont uniformes en termes de casse (minuscules), ce qui facilite la manipulation et l'analyse des données, en évitant les problèmes de casse dans les opérations de recherche ou de filtrage.\r\n",
    "\r\n",
    "Cette ligne de code est utile lorsque vous souhaitez uniformiser la casse des données dans une colonne de chaînes de caractères, comme la colonne 'Material' dans votre DataFrame `shoes_dataset`.\r\n"
   ]
  },
  {
   "cell_type": "code",
   "execution_count": null,
   "metadata": {},
   "outputs": [],
   "source": [
    "shoes_dataset['Material'].value_counts()"
   ]
  },
  {
   "cell_type": "markdown",
   "metadata": {},
   "source": [
    "1. `shoes_dataset['Material'].value_counts()`:\r\n",
    "   - Cette ligne utilise la méthode `value_counts()` sur la colonne 'Material' du DataFrame `shoes_dataset`.\r\n",
    "   - La méthode `value_counts()` compte le nombre d'occurrences de chaque valeur unique dans la colonne 'Material' et renvoie ces comptages sous forme d'une série pandas, triée par ordre décroissant.\r\n",
    "   - Cela permet de voir la distribution des différents matériaux utilisés pour les chaussures dans votre ensemble de données, en affichant le nombre d'occurrences de chaque matériau.\r\n",
    "\r\n",
    "Cela vous donne un aperçu de la répartition des matériaux dans la colonne 'Material' de votre DataFrame `shoes_dataset`, ce qui peut être utile pour des analyses sur les types de matériaux les plus couramment utilisés.\r\n"
   ]
  },
  {
   "cell_type": "code",
   "execution_count": null,
   "metadata": {},
   "outputs": [],
   "source": [
    "shoes_dataset['Material'].value_counts().plot(kind='bar', legend='false',  = 'green')\n",
    "plt.title('Material Counts')\n",
    "plt.xlabel('Material names')\n",
    "plt.ylabel('Counts')\n",
    "plt.show()"
   ]
  },
  {
   "cell_type": "markdown",
   "metadata": {},
   "source": [
    "1. `shoes_dataset['Material'].value_counts().plot(kind='bar', legend=False, color='green')`:\r\n",
    "   - Cette ligne utilise la méthode `value_counts()` pour compter le nombre d'occurrences de chaque valeur unique dans la colonne 'Material' du DataFrame `shoes_dataset`.\r\n",
    "   - Ensuite, la méthode `plot()` est utilisée avec l'argument `kind='bar'` pour créer un graphique en barres représentant ces comptages.\r\n",
    "   - L'argument `legend=False` est utilisé pour ne pas afficher la légende dans le graphique, car il n'y a qu'une seule série de données (les comptages de matériaux) et la légende n'est pas nécessaire dans ce cas.\r\n",
    "   - L'argument `color='green'` définit la couleur des barres du graphique comme vert.\r\n",
    "\r\n",
    "2. `plt.title('Material Counts')`:\r\n",
    "   - Cette ligne définit le titre du graphique comme \"Material Counts\", ce qui donne une indication sur ce que représente le graphique.\r\n",
    "\r\n",
    "3. `plt.xlabel('Material names')` et `plt.ylabel('Counts')`:\r\n",
    "   - Ces lignes ajoutent des étiquettes aux axes x et y respectivement pour indiquer ce que chaque axe représente dans le graphique.\r\n",
    "\r\n",
    "4. `plt.show()`:\r\n",
    "   - Cette ligne affiche le graphique complet avec les données, le titre et les étiquettes d'axes.\r\n",
    "\r\n",
    "Ces lignes combinées créent un graphique en barres de couleur verte montrant la distribution des différents matériaux dans votre DataFrame `shoes_dataset` en fonction de leur nombre d'occurrences.\r\n"
   ]
  },
  {
   "cell_type": "code",
   "execution_count": null,
   "metadata": {},
   "outputs": [],
   "source": [
    "def add_Material(inpt):\n",
    "    if inpt=='mech' or inpt=='leather' or inpt=='canvas' or inpt=='primeknit' or inpt=='synthetic' or inpt=='suede' or inpt=='knit' or inpt=='nylon' :\n",
    "        return inpt\n",
    "    else :\n",
    "        return 'other'\n",
    "shoes_dataset['Material'] = shoes_dataset['Material'].apply(add_Material)"
   ]
  },
  {
   "cell_type": "markdown",
   "metadata": {},
   "source": [
    "1. Fonction `add_Material`:\r\n",
    "   - Cette fonction prend en entrée un élément `inpt` de la colonne 'Material' et vérifie s'il appartient à une liste de matériaux spécifiques ('mech', 'leather', 'canvas', 'primeknit', 'synthetic', 'suede', 'knit', 'nylon').\r\n",
    "   - Si `inpt` est l'un de ces matériaux spécifiques, la fonction renvoie simplement cet élément (`inpt`).\r\n",
    "   - Sinon, la fonction renvoie la chaîne de caractères 'other'.\r\n",
    "\r\n",
    "2. `shoes_dataset['Material'] = shoes_dataset['Material'].apply(add_Material)`:\r\n",
    "   - Cette ligne applique la fonction `add_Material` à chaque élément de la colonne 'Material' du DataFrame `shoes_dataset` en utilisant la méthode `apply()`.\r\n",
    "   - La méthode `apply()` permet d'appliquer une fonction personnalisée à chaque élément d'une colonne (ou d'un DataFrame) et de remplacer les valeurs de la colonne par les valeurs renvoyées par la fonction.\r\n",
    "   - Ainsi, cette ligne remplace chaque valeur de la colonne 'Material' par le résultat de la fonction `add_Material`, qui est soit le matériau d'origine (s'il est dans la liste spécifique), soit 'other' (s'il n'est pas dans la liste).\r\n",
    "\r\n",
    "Cela montre comment la fonction `add_Material` est utilisée pour regrouper certains matériaux spécifiques et les autres sous la catégorie 'other' dans la colonne 'Material' de votre DataFrame `shoes_dataset`.\r\n"
   ]
  },
  {
   "cell_type": "code",
   "execution_count": null,
   "metadata": {},
   "outputs": [],
   "source": [
    "shoes_dataset['Material'].value_counts()"
   ]
  },
  {
   "cell_type": "markdown",
   "metadata": {},
   "source": [
    "1. `shoes_dataset['Material'].value_counts()`:\r\n",
    "   - Cette ligne utilise la méthode `value_counts()` sur la colonne 'Material' du DataFrame `shoes_dataset`.\r\n",
    "   - La méthode `value_counts()` compte le nombre d'occurrences de chaque valeur unique dans la colonne 'Material' et renvoie ces comptages sous forme d'une série pandas, triée par ordre décroissant.\r\n",
    "   - Cela permet d'avoir un aperçu de la répartition des différents matériaux utilisés pour les chaussures dans vos données, en affichant le nombre d'occurrences de chaque matériau.\r\n",
    "\r\n"
   ]
  },
  {
   "cell_type": "code",
   "execution_count": null,
   "metadata": {},
   "outputs": [],
   "source": [
    "shoes_dataset['Material'].value_counts().plot(kind='bar', legend='false',  = 'green')\n",
    "plt.title('New Material Counts')\n",
    "plt.xlabel('Material names')\n",
    "plt.ylabel('Counts')\n",
    "plt.show()"
   ]
  },
  {
   "cell_type": "markdown",
   "metadata": {},
   "source": [
    "1. `shoes_dataset['Material'].value_counts().plot(kind='bar', legend=False, color='green')`:\r\n",
    "   - Cette ligne utilise la méthode `value_counts()` pour compter le nombre d'occurrences de chaque valeur unique dans la colonne 'Material' du DataFrame `shoes_dataset`.\r\n",
    "   - Ensuite, la méthode `plot()` est utilisée avec l'argument `kind='bar'` pour créer un graphique en barres représentant ces comptages.\r\n",
    "   - L'argument `legend=False` est utilisé pour ne pas afficher la légende dans le graphique, car il n'y a qu'une seule série de données (les comptages de matériaux) et la légende n'est pas nécessaire dans ce cas.\r\n",
    "   - L'argument `color='green'` définit la couleur des barres du graphique comme vert.\r\n",
    "\r\n",
    "2. `plt.title('New Material Counts')`:\r\n",
    "   - Cette ligne définit le titre du graphique comme \"New Material Counts\", ce qui donne une indication sur ce que représente le graphique.\r\n",
    "\r\n",
    "3. `plt.xlabel('Material names')` et `plt.ylabel('Counts')`:\r\n",
    "   - Ces lignes ajoutent des étiquettes aux axes x et y respectivement pour indiquer ce que chaque axe représente dans le graphique.\r\n",
    "\r\n",
    "4. `plt.show()`:\r\n",
    "   - Cette ligne affiche le graphique complet avec les données, le titre et les étiquettes d'axes.\r\n",
    "\r\n",
    "Ces lignes combinées créent un graphique en barres de couleur verte montrant la distribution des différents matériaux dans votre DataFrame `shoes_dataset` en fonction de leur nombre d'occurrences.\r\n"
   ]
  },
  {
   "cell_type": "code",
   "execution_count": null,
   "metadata": {},
   "outputs": [],
   "source": [
    "## Price\n",
    "shoes_dataset['Price (USD)'] = shoes_dataset['Price (USD)'].str.replace('$','').astype(float)\n",
    "shoes_dataset.head(5)"
   ]
  },
  {
   "cell_type": "markdown",
   "metadata": {},
   "source": [
    "1. `shoes_dataset['Price (USD)'] = shoes_dataset['Price (USD)'].str.replace('$','').astype(float)`:\r\n",
    "   - Cette ligne utilise la méthode `str.replace('$','')` pour supprimer le symbole dollar ('$') de toutes les valeurs de la colonne 'Price (USD)' dans le DataFrame `shoes_dataset`.\r\n",
    "   - Ensuite, la méthode `astype(float)` est utilisée pour convertir les valeurs de la colonne 'Price (USD)' en type float, ce qui est nécessaire pour manipuler des valeurs numériques décimales.\r\n",
    "   - Cette étape est souvent nécessaire lorsque les données contiennent des symboles ou des caractères non numériques qui doivent être nettoyés pour effectuer des opérations mathématiques sur les données.\r\n",
    "\r\n",
    "2. `shoes_dataset.head(5)`:\r\n",
    "   - Cette ligne affiche les cinq premières lignes du DataFrame `shoes_dataset` après la transformation des valeurs de la colonne 'Price (USD)'.\r\n",
    "   - Cela permet de vérifier visuellement que les modifications ont été appliquées correctement aux données.\r\n",
    "\r\n",
    "Ces lignes de code nettoient la colonne 'Price (USD)' en supprimant le symbole dollar ('$') et en convertissant les valeurs en type float, ce qui rend les données prêtes pour les calculs et les analyses impliquant les prix des chaussures.\r\n"
   ]
  },
  {
   "cell_type": "code",
   "execution_count": null,
   "metadata": {},
   "outputs": [],
   "source": [
    "sns.set()\n",
    "sns.scatterplot(data=shoes_dataset, x=\"Brand\", y=\"Price (USD)\")"
   ]
  },
  {
   "cell_type": "markdown",
   "metadata": {},
   "source": [
    "1. `sns.set()`:\r\n",
    "   - Cette ligne configure les paramètres par défaut de seaborn pour améliorer l'esthétique des graphiques.\r\n",
    "\r\n",
    "2. `sns.scatterplot(data=shoes_dataset, x=\"Brand\", y=\"Price (USD)\")`:\r\n",
    "   - Cette ligne crée un nuage de points (scatter plot) en utilisant la fonction `scatterplot()` de seaborn.\r\n",
    "   - L'argument `data=shoes_dataset` spécifie que les données à utiliser proviennent du DataFrame `shoes_dataset`.\r\n",
    "   - L'argument `x=\"Brand\"` indique que la variable 'Brand' sera représentée sur l'axe des abscisses (x-axis) du graphique.\r\n",
    "   - L'argument `y=\"Price (USD)\"` indique que la variable 'Price (USD)' sera représentée sur l'axe des ordonnées (y-axis) du graphique.\r\n",
    "   - Cette visualisation permet de voir la répartition des prix des chaussures en fonction de leur marque, ce qui peut aider à identifier des tendances ou des relations entre ces variables.\r\n",
    "\r\n",
    "Ce code nécessite que seaborn (`import seaborn as sns`) soit importé au début de votre notebook pour utiliser ses fonctionnalités de visualisation avancée.\r\n"
   ]
  },
  {
   "cell_type": "code",
   "execution_count": null,
   "metadata": {},
   "outputs": [],
   "source": [
    "shoes_dataset.info()"
   ]
  },
  {
   "cell_type": "markdown",
   "metadata": {},
   "source": [
    "1. `shoes_dataset.info()`:\r\n",
    "   - Cette ligne utilise la méthode `info()` du DataFrame `shoes_dataset` pour afficher des informations détaillées sur les données.\r\n",
    "   - Les informations fournies incluent le nombre total d'entrées, le nombre de colonnes, les noms des colonnes, le nombre d'entrées non nulles par colonne, les types de données de chaque colonne, et la mémoire utilisée par le DataFrame.\r\n",
    "   - Cette méthode est utile pour avoir un aperçu complet de la structure des données, le type de données de chaque colonne, et pour détecter d'éventuelles valeurs manquantes ou des colonnes nouvellement créées suite à des transformations telles que l'encodage one-hot.\r\n"
   ]
  },
  {
   "cell_type": "code",
   "execution_count": null,
   "metadata": {},
   "outputs": [],
   "source": [
    "shoes_dataset = pd.get_dummies(shoes_dataset,dtype=int)\n",
    "shoes_dataset.head(5)\n",
    "shoes_dataset.info()"
   ]
  },
  {
   "cell_type": "markdown",
   "metadata": {},
   "source": [
    "1. `shoes_dataset = pd.get_dummies(shoes_dataset, dtype=int)`:\r\n",
    "   - Cette ligne utilise la fonction `get_dummies()` de pandas pour effectuer un encodage one-hot des variables catégorielles dans le DataFrame `shoes_dataset`.\r\n",
    "   - L'encodage one-hot transforme les variables catégorielles en variables indicatrices (0 ou 1) pour chaque catégorie unique, ce qui est souvent nécessaire pour traiter les variables catégorielles dans les modèles d'apprentissage automatique.\r\n",
    "   - L'argument `dtype=int` est utilisé pour spécifier que les variables indicatrices générées seront de type entier (int) plutôt que booléen (bool), ce qui peut être préférable dans certains cas.\r\n",
    "  \r\n",
    "2. `shoes_dataset.head(5)`:\r\n",
    "   - Cette ligne affiche les cinq premières lignes du DataFrame `shoes_dataset` après l'encodage one-hot, ce qui permet de vérifier visuellement les transformations effectuées sur les variables catégorielles.\r\n",
    "\r\n",
    "3. `shoes_dataset.info()`:\r\n",
    "   - Cette ligne utilise la méthode `info()` du DataFrame `shoes_dataset` pour afficher des informations détaillées sur les données après l'encodage one-hot.\r\n",
    "   - Cela inclut des informations sur le nombre de colonnes, les types de données, la mémoire utilisée, et d'autres détails utiles pour comprendre la structure des données après les transformations effectuées.\r\n"
   ]
  },
  {
   "cell_type": "code",
   "execution_count": null,
   "metadata": {},
   "outputs": [],
   "source": [
    "x = shoes_dataset.drop('Price (USD)', axis=1)\n"
   ]
  },
  {
   "cell_type": "markdown",
   "metadata": {},
   "source": [
    "1. `x = shoes_dataset.drop('Price (USD)', axis=1)`:\r\n",
    "   - Cette ligne utilise la méthode `drop()` du DataFrame `shoes_dataset` pour supprimer la colonne 'Price (USD)' du DataFrame et stocker le résultat dans un nouveau DataFrame appelé `x`.\r\n",
    "   - L'argument `axis=1` spécifie que vous voulez supprimer une colonne (l'axe 1 représente les colonnes), tandis que `axis=0` serait utilisé pour supprimer des lignes.\r\n",
    "   - La variable `x` contient maintenant toutes les colonnes restantes de votre DataFrame après avoir supprimé la colonne des prix.\r\n",
    "   - En général, `x` est utilisé pour représenter les caractéristiques ou les variables indépendantes dans un contexte de modélisation, où vous pouvez utiliser ces caractéristiques pour prédire la variable cible `y` (dans ce cas, les prix des chaussures).\r\n"
   ]
  },
  {
   "cell_type": "code",
   "execution_count": null,
   "metadata": {},
   "outputs": [],
   "source": [
    "y = shoes_dataset['Price (USD)']\n"
   ]
  },
  {
   "cell_type": "markdown",
   "metadata": {},
   "source": [
    "1. `y = shoes_dataset['Price (USD)']`:\r\n",
    "   - Cette ligne extrait la colonne 'Price (USD)' du DataFrame `shoes_dataset` et l'assigne à la variable `y`.\r\n",
    "   - La variable `y` contient maintenant les prix des chaussures en dollars, ce qui est utile lorsque vous effectuez des analyses ou des modèles prédictifs basés sur les prix.\r\n",
    "   - En général, `y` est utilisé pour représenter la variable cible dans un contexte de modélisation, où vous pourriez essayer de prédire les prix en fonction d'autres caractéristiques des chaussures.\r\n"
   ]
  }
 ],
 "metadata": {
  "kernelspec": {
   "display_name": "Python 3 (ipykernel)",
   "language": "python",
   "name": "python3"
  },
  "language_info": {
   "codemirror_mode": {
    "name": "ipython",
    "version": 3
   },
   "file_extension": ".py",
   "mimetype": "text/x-python",
   "name": "python",
   "nbconvert_exporter": "python",
   "pygments_lexer": "ipython3",
   "version": "3.11.7"
  }
 },
 "nbformat": 4,
 "nbformat_minor": 4
}
