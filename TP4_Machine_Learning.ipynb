{
 "cells": [
  {
   "cell_type": "markdown",
   "metadata": {
    "id": "5KrsqAPRf38s"
   },
   "source": [
    "# **Série de Travaux Pratiques N° 4 : Regréssion Multiple et Regréssion Polynomiale**"
   ]
  },
  {
   "cell_type": "markdown",
   "metadata": {
    "id": "UZcBWU82dmFk"
   },
   "source": [
    "# **Partie I : Regréssion multiple**"
   ]
  },
  {
   "cell_type": "markdown",
   "metadata": {
    "id": "ch-MfGTUJFoJ"
   },
   "source": [
    "- La régression multiple est comme la régression linéaire, mais avec plus d'une valeur indépendante, ce qui signifie que nous essayons de prédire une valeur basée sur deux variables ou plus.\n",
    "\n",
    "- L’ensemble de données ci-dessous contient des informations sur les voitures.\n",
    "- Nous pouvons prédire les émissions de CO2 d’une voiture en fonction de la taille du moteur, mais avec la régression multiple, nous pouvons intégrer davantage de variables, comme le poids de la voiture, pour rendre la prédiction plus précise."
   ]
  },
  {
   "cell_type": "markdown",
   "metadata": {
    "id": "xLgS5TO7_3IF"
   },
   "source": [
    "### **Question 1**"
   ]
  },
  {
   "cell_type": "markdown",
   "metadata": {
    "id": "3jR_8HFcPQ79"
   },
   "source": [
    "1)- Lisez le fichier \"data.csv\"renvoyez un objet DataFrame et afficher le dataset avec head()"
   ]
  },
  {
   "cell_type": "code",
   "execution_count": 18,
   "metadata": {
    "id": "PU9id8cdhOdi"
   },
   "outputs": [
    {
     "name": "stdout",
     "output_type": "stream",
     "text": [
      "          Car       Model  Volume  Weight  CO2\n",
      "0      Toyoty        Aygo    1000     790   99\n",
      "1  Mitsubishi  Space Star    1200    1160   95\n",
      "2       Skoda      Citigo    1000     929   95\n",
      "3        Fiat         500     900     865   90\n",
      "4        Mini      Cooper    1500    1140  105\n"
     ]
    }
   ],
   "source": [
    "import pandas as pd\n",
    "from sklearn.linear_model import LinearRegression\n",
    "\n",
    "df = pd.read_csv('data.csv')\n",
    "print(df.head())"
   ]
  },
  {
   "cell_type": "markdown",
   "metadata": {
    "id": "ch-MfGTUJFoJ"
   },
   "source": [
    "- Ce code utilise la bibliothèque Pandas pour lire le fichier \"data.csv\" et stocker son contenu dans un objet DataFrame nommé df. Ensuite, il utilise la méthode head() pour afficher les premières lignes du DataFrame, ce qui est une bonne pratique pour visualiser rapidement les données et vérifier leur structure. Si vous avez des données de format CSV dans un fichier nommé \"data.csv\" et que vous exécutez ce code, il devrait afficher les premières lignes de votre jeu de données. Cela permet de s'assurer que les données sont lues correctement avant de procéder à l'analyse ou à la modélisation. \n"
   ]
  },
  {
   "cell_type": "markdown",
   "metadata": {
    "id": "viqiJ_d1_5_J"
   },
   "source": [
    "### **Question 2**"
   ]
  },
  {
   "cell_type": "markdown",
   "metadata": {
    "id": "nFB9IbKZPzeF"
   },
   "source": [
    "2)- Faites ensuite une dataframe des valeurs indépendantes (Volume et Wheight) et appelez cette variable X."
   ]
  },
  {
   "cell_type": "code",
   "execution_count": 27,
   "metadata": {
    "id": "Jxw-4F8yhPan"
   },
   "outputs": [],
   "source": [
    "X = df[['Volume', 'Weight']]\n"
   ]
  },
  {
   "cell_type": "markdown",
   "metadata": {
    "id": "ch-MfGTUJFoJ"
   },
   "source": [
    "- Ce code crée une nouvelle DataFrame X en extrayant les colonnes \"Volume\" et \"Weight\" de votre DataFrame principal df. Cela signifie que la DataFrame X contiendra uniquement les valeurs des variables indépendantes \"Volume\" et \"Weight\" que vous utiliserez pour votre modèle de régression linéaire. Cette étape est importante car elle prépare les données en isolant les caractéristiques que vous souhaitez utiliser pour prédire la variable dépendante.\n"
   ]
  },
  {
   "cell_type": "markdown",
   "metadata": {
    "id": "TdFI5Dyz_73O"
   },
   "source": [
    "### **Question 3**"
   ]
  },
  {
   "cell_type": "markdown",
   "metadata": {
    "id": "4R2K1gDuQmVQ"
   },
   "source": [
    "3)- Mettez les valeurs dépendantes (CO2) dans une variable appelée y."
   ]
  },
  {
   "cell_type": "code",
   "execution_count": 21,
   "metadata": {
    "id": "CiY_t2cUhQKX"
   },
   "outputs": [],
   "source": [
    "\n",
    "y = df['CO2']"
   ]
  },
  {
   "cell_type": "markdown",
   "metadata": {
    "id": "ch-MfGTUJFoJ"
   },
   "source": [
    "- Ce code crée une variable y qui contient les valeurs de la variable dépendante \"CO2\" à partir de votre DataFrame df. C'est une étape cruciale dans la préparation des données pour une régression linéaire, car vous séparez explicitement la variable que vous souhaitez prédire (CO2) de vos caractéristiques indépendantes (Volume et Weight, stockées dans la variable X).\n",
    "- Une fois que vous avez séparé vos données de cette manière, vous pouvez utiliser X comme vos variables d'entrée (caractéristiques) et y comme votre variable cible (à prédire) lors de la construction de votre modèle de régression linéaire.\n"
   ]
  },
  {
   "cell_type": "markdown",
   "metadata": {
    "id": "0t4TISZg_-EM"
   },
   "source": [
    "### **Question 4**"
   ]
  },
  {
   "cell_type": "markdown",
   "metadata": {
    "id": "FeCQRhEYQ-OT"
   },
   "source": [
    "4)- À partir du module sklearn, utlisez la méthode LinearRegression() pour créer un objet de régression linéaire."
   ]
  },
  {
   "cell_type": "code",
   "execution_count": 23,
   "metadata": {
    "id": "tjDdWUkrhQ84"
   },
   "outputs": [],
   "source": [
    "regression = LinearRegression()"
   ]
  },
  {
   "cell_type": "markdown",
   "metadata": {
    "id": "ch-MfGTUJFoJ"
   },
   "source": [
    "- Ce code utilise le module scikit-learn (sklearn) pour créer un objet de régression linéaire en utilisant la méthode LinearRegression(). Une fois que cet objet, nous pouvons l'utiliser pour entraîner votre modèle de régression linéaire sur les données que vous avez préparées.\n"
   ]
  },
  {
   "cell_type": "markdown",
   "metadata": {
    "id": "hIuFe_KDADQb"
   },
   "source": [
    "### **Question 5**"
   ]
  },
  {
   "cell_type": "markdown",
   "metadata": {
    "id": "G54liBYgRAyO"
   },
   "source": [
    "5)- Cet objet possède une méthode appelée fit() qui prend les valeurs indépendantes **X** et dépendantes **y** comme paramètres et remplit l'objet de régression avec des données décrivant la relation :\n"
   ]
  },
  {
   "cell_type": "code",
   "execution_count": 24,
   "metadata": {
    "id": "crE8CBuLhR6y"
   },
   "outputs": [
    {
     "data": {
      "text/html": [
       "<style>#sk-container-id-4 {color: black;background-color: white;}#sk-container-id-4 pre{padding: 0;}#sk-container-id-4 div.sk-toggleable {background-color: white;}#sk-container-id-4 label.sk-toggleable__label {cursor: pointer;display: block;width: 100%;margin-bottom: 0;padding: 0.3em;box-sizing: border-box;text-align: center;}#sk-container-id-4 label.sk-toggleable__label-arrow:before {content: \"▸\";float: left;margin-right: 0.25em;color: #696969;}#sk-container-id-4 label.sk-toggleable__label-arrow:hover:before {color: black;}#sk-container-id-4 div.sk-estimator:hover label.sk-toggleable__label-arrow:before {color: black;}#sk-container-id-4 div.sk-toggleable__content {max-height: 0;max-width: 0;overflow: hidden;text-align: left;background-color: #f0f8ff;}#sk-container-id-4 div.sk-toggleable__content pre {margin: 0.2em;color: black;border-radius: 0.25em;background-color: #f0f8ff;}#sk-container-id-4 input.sk-toggleable__control:checked~div.sk-toggleable__content {max-height: 200px;max-width: 100%;overflow: auto;}#sk-container-id-4 input.sk-toggleable__control:checked~label.sk-toggleable__label-arrow:before {content: \"▾\";}#sk-container-id-4 div.sk-estimator input.sk-toggleable__control:checked~label.sk-toggleable__label {background-color: #d4ebff;}#sk-container-id-4 div.sk-label input.sk-toggleable__control:checked~label.sk-toggleable__label {background-color: #d4ebff;}#sk-container-id-4 input.sk-hidden--visually {border: 0;clip: rect(1px 1px 1px 1px);clip: rect(1px, 1px, 1px, 1px);height: 1px;margin: -1px;overflow: hidden;padding: 0;position: absolute;width: 1px;}#sk-container-id-4 div.sk-estimator {font-family: monospace;background-color: #f0f8ff;border: 1px dotted black;border-radius: 0.25em;box-sizing: border-box;margin-bottom: 0.5em;}#sk-container-id-4 div.sk-estimator:hover {background-color: #d4ebff;}#sk-container-id-4 div.sk-parallel-item::after {content: \"\";width: 100%;border-bottom: 1px solid gray;flex-grow: 1;}#sk-container-id-4 div.sk-label:hover label.sk-toggleable__label {background-color: #d4ebff;}#sk-container-id-4 div.sk-serial::before {content: \"\";position: absolute;border-left: 1px solid gray;box-sizing: border-box;top: 0;bottom: 0;left: 50%;z-index: 0;}#sk-container-id-4 div.sk-serial {display: flex;flex-direction: column;align-items: center;background-color: white;padding-right: 0.2em;padding-left: 0.2em;position: relative;}#sk-container-id-4 div.sk-item {position: relative;z-index: 1;}#sk-container-id-4 div.sk-parallel {display: flex;align-items: stretch;justify-content: center;background-color: white;position: relative;}#sk-container-id-4 div.sk-item::before, #sk-container-id-4 div.sk-parallel-item::before {content: \"\";position: absolute;border-left: 1px solid gray;box-sizing: border-box;top: 0;bottom: 0;left: 50%;z-index: -1;}#sk-container-id-4 div.sk-parallel-item {display: flex;flex-direction: column;z-index: 1;position: relative;background-color: white;}#sk-container-id-4 div.sk-parallel-item:first-child::after {align-self: flex-end;width: 50%;}#sk-container-id-4 div.sk-parallel-item:last-child::after {align-self: flex-start;width: 50%;}#sk-container-id-4 div.sk-parallel-item:only-child::after {width: 0;}#sk-container-id-4 div.sk-dashed-wrapped {border: 1px dashed gray;margin: 0 0.4em 0.5em 0.4em;box-sizing: border-box;padding-bottom: 0.4em;background-color: white;}#sk-container-id-4 div.sk-label label {font-family: monospace;font-weight: bold;display: inline-block;line-height: 1.2em;}#sk-container-id-4 div.sk-label-container {text-align: center;}#sk-container-id-4 div.sk-container {/* jupyter's `normalize.less` sets `[hidden] { display: none; }` but bootstrap.min.css set `[hidden] { display: none !important; }` so we also need the `!important` here to be able to override the default hidden behavior on the sphinx rendered scikit-learn.org. See: https://github.com/scikit-learn/scikit-learn/issues/21755 */display: inline-block !important;position: relative;}#sk-container-id-4 div.sk-text-repr-fallback {display: none;}</style><div id=\"sk-container-id-4\" class=\"sk-top-container\"><div class=\"sk-text-repr-fallback\"><pre>LinearRegression()</pre><b>In a Jupyter environment, please rerun this cell to show the HTML representation or trust the notebook. <br />On GitHub, the HTML representation is unable to render, please try loading this page with nbviewer.org.</b></div><div class=\"sk-container\" hidden><div class=\"sk-item\"><div class=\"sk-estimator sk-toggleable\"><input class=\"sk-toggleable__control sk-hidden--visually\" id=\"sk-estimator-id-4\" type=\"checkbox\" checked><label for=\"sk-estimator-id-4\" class=\"sk-toggleable__label sk-toggleable__label-arrow\">LinearRegression</label><div class=\"sk-toggleable__content\"><pre>LinearRegression()</pre></div></div></div></div></div>"
      ],
      "text/plain": [
       "LinearRegression()"
      ]
     },
     "execution_count": 24,
     "metadata": {},
     "output_type": "execute_result"
    }
   ],
   "source": [
    "regression.fit(X, y)"
   ]
  },
  {
   "cell_type": "markdown",
   "metadata": {
    "id": "ch-MfGTUJFoJ"
   },
   "source": [
    "- Cet objet possède une méthode appelée fit() qui prend les valeurs indépendantes X et les valeurs dépendantes y comme paramètres et remplit l'objet de régression avec des données décrivant la relation : regression.fit(X, y). Une fois que cet objet est rempli de données, nous pouvons l'utiliser pour entraîner votre modèle de régression linéaire sur les données que vous avez préparées.\n"
   ]
  },
  {
   "cell_type": "markdown",
   "metadata": {
    "id": "FwpR7_PVRGs6"
   },
   "source": [
    "### **Question 6**"
   ]
  },
  {
   "cell_type": "markdown",
   "metadata": {
    "id": "ELLdhxnORE1B"
   },
   "source": [
    "6)- Nous disposons désormais d'un objet de régression prêt à prédire les valeurs de CO2 en fonction du poids et du volume d'une voiture. On veut prédire combien de grammes de CO2 est dégagés pour chaque kilomètre parcouru pour une voiture équipée d’un moteur de 1,3 litre (1300 ml) et pesant 2300 kg (utiliser la fonction predict)."
   ]
  },
  {
   "cell_type": "code",
   "execution_count": 25,
   "metadata": {
    "id": "Fn4qBIkcRF07"
   },
   "outputs": [
    {
     "name": "stdout",
     "output_type": "stream",
     "text": [
      "Prédiction de CO2 pour une voiture de 1300 ml et 2300 kg : [107.2087328]\n"
     ]
    },
    {
     "name": "stderr",
     "output_type": "stream",
     "text": [
      "D:\\Program Files\\anaconda\\Lib\\site-packages\\sklearn\\base.py:439: UserWarning: X does not have valid feature names, but LinearRegression was fitted with feature names\n",
      "  warnings.warn(\n"
     ]
    }
   ],
   "source": [
    "predict_CO2 = regression.predict([[1300, 2300]])\n",
    "print(\"Prédiction de CO2 pour une voiture de 1300 ml et 2300 kg :\", predict_CO2)"
   ]
  },
  {
   "cell_type": "markdown",
   "metadata": {
    "id": "ch-MfGTUJFoJ"
   },
   "source": [
    "- Nous disposons désormais d'un objet de régression prêt à prédire les valeurs de CO2 en fonction du poids et du volume d'une voiture. Pour prédire combien de grammes de CO2 est dégagé pour chaque kilomètre parcouru pour une voiture équipée d’un moteur de 1,3 litre (1300 ml) et pesant 2300 kg, nous pouvons utiliser la fonction predict() de notre objet de régression linéaire.\n"
   ]
  },
  {
   "cell_type": "markdown",
   "metadata": {
    "id": "gOXsm6yvnW_m"
   },
   "source": [
    "### **Question 7**"
   ]
  },
  {
   "cell_type": "markdown",
   "metadata": {
    "id": "IOqYGUZmnS-K"
   },
   "source": [
    "7)- Le coefficient est un facteur qui décrit la relation avec une variable inconnue.\n",
    "\n",
    "Exemple : si x est une variable, alors 2x vaut x deux fois. x est la variable inconnue et le chiffre 2 est le coefficient.\n",
    "\n",
    "Dans ce cas, on peut demander la valeur du coefficient poids par rapport au CO2, et du volume par rapport au CO2. La ou les réponses que nous obtenons nous indiquent ce qui se passerait si nous augmentions ou diminuions l’une des valeurs indépendantes."
   ]
  },
  {
   "cell_type": "code",
   "execution_count": 26,
   "metadata": {
    "id": "slK1FSv4nUYR"
   },
   "outputs": [
    {
     "name": "stdout",
     "output_type": "stream",
     "text": [
      "Coefficient Volume par rapport au CO2 : 0.0078052575277471215\n",
      "Coefficient Weight par rapport au CO2 : 0.007550947270300686\n"
     ]
    }
   ],
   "source": [
    "coefficients = regression.coef_\n",
    "print(\"Coefficient Volume par rapport au CO2 :\", coefficients[0])  # Coefficient pour Volume\n",
    "print(\"Coefficient Weight par rapport au CO2 :\", coefficients[1])  # Coefficient pour Weight"
   ]
  },
  {
   "cell_type": "markdown",
   "metadata": {
    "id": "ch-MfGTUJFoJ"
   },
   "source": [
    "- Le coefficient est un facteur qui décrit la relation avec une variable inconnue. Par exemple, si x est une variable, alors 2x vaut x multiplié par 2. Dans cette expression, x est la variable inconnue et le chiffre 2 est le coefficient.\n",
    "-  Dans le contexte de notre modèle de régression linéaire, nous pouvons demander la valeur du coefficient du poids par rapport au CO2 et du volume par rapport au CO2. Les réponses que nous obtenons nous indiquent ce qui se passerait si nous augmentions ou diminuions l’une des valeurs indépendantes.\n"
   ]
  },
  {
   "cell_type": "markdown",
   "metadata": {
    "id": "Q1OrwD7hvMSP"
   },
   "source": [
    "# **Partie II : Regréssion Polynomiale**"
   ]
  },
  {
   "cell_type": "markdown",
   "metadata": {
    "id": "tEzIbzc-eExJ"
   },
   "source": [
    "### **Question 1**"
   ]
  },
  {
   "cell_type": "markdown",
   "metadata": {
    "id": "AvOM5yMnefZn"
   },
   "source": [
    "1- Importer les librairies : numpy, matplotlib, sklearn."
   ]
  },
  {
   "cell_type": "code",
   "execution_count": 1,
   "metadata": {
    "id": "afnM-j_wfWPv"
   },
   "outputs": [],
   "source": [
    "import numpy as np\n",
    "import matplotlib.pyplot as plt\n",
    "from sklearn.datasets import make_regression\n",
    "from sklearn.linear_model import SGDRegressor\n",
    "from sklearn.metrics import r2_score\n"
   ]
  },
  {
   "cell_type": "markdown",
   "metadata": {
    "id": "ch-MfGTUJFoJ"
   },
   "source": [
    "1. `import numpy as np`: Importe la bibliothèque NumPy sous le pseudonyme `np`.\r\n",
    "2. `import matplotlib.pyplot as plt`: Importe la sous-bibliothèque pyplot de Matplotlib sous le pseudonyme `plt`.\r\n",
    "3. `from sklearn.datasets import make_regression`: Importe la fonction `make_regression` de scikit-learn.\r\n",
    "4. `from sklearn.linear_model import SGDRegressor`: Importe le modèle `SGDRegressor` de scikit-learn.\r\n",
    "5. `from sklearn.metrics import r2_score`: Importe la fonction `r2_score` de scikit-learn.\r\n",
    "ession."
   ]
  },
  {
   "cell_type": "markdown",
   "metadata": {
    "id": "quBVD5TqeI2o"
   },
   "source": [
    "### **Question 2**"
   ]
  },
  {
   "cell_type": "markdown",
   "metadata": {
    "id": "mZpyRDU8eg8V"
   },
   "source": [
    "2- Créer votre dataset en important la fonction datasets.make_regression et utilisez la pour générer un problème de régression aléatoire de 100 exemples avec une seule variable avec y=x^2"
   ]
  },
  {
   "cell_type": "code",
   "execution_count": 2,
   "metadata": {
    "id": "sja5mmNIfYMc"
   },
   "outputs": [],
   "source": [
    "X, y = make_regression(n_samples=100, n_features=1, noise=5, random_state=0)\n",
    "y = np.power(X, 2).ravel() "
   ]
  },
  {
   "cell_type": "markdown",
   "metadata": {
    "id": "ch-MfGTUJFoJ"
   },
   "source": [
    "- `X, y = make_regression(n_samples=100, n_features=1, noise=5, random_state=0)`: Cette ligne utilise la fonction `make_regression` pour générer un ensemble de données de régression. Les paramètres utilisés sont :\r\n",
    "  - `n_samples=100`: spécifie le nombre d'exemples dans l'ensemble de données, fixé à 100 dans cet exemple.\r\n",
    "  - `n_features=1`: indique qu'il n'y a qu'une seule variable explicative dans les données.\r\n",
    "  - `noise=5`: ajoute du bruit aux données, ce qui est utile pour simuler des données réalistes où la relation entre X et y n'est pas parfaite.\r\n",
    "  - `random_state=0`: assure la reproductibilité des résultats en initialisant la génération de nombres aléatoires avec une graine fixe.\r\n",
    "- `y = np.power(X, 2).ravel()`: Cette ligne calcule les valeurs cibles `y` en utilisant la fonction `np.power` pour élever chaque valeur de `X` au carré, puis `ravel()` est utilisé pour aplatir le tableau résultant en une dimension. Cela crée une relation quadratique entre `X` et `y`, où `y` est le carré de chaque valeur de `X`.\r\n"
   ]
  },
  {
   "cell_type": "markdown",
   "metadata": {
    "id": "ZjsfLHcBeKkC"
   },
   "source": [
    "### **Question 3**"
   ]
  },
  {
   "cell_type": "markdown",
   "metadata": {
    "id": "4R49P7cLeie-"
   },
   "source": [
    "3- Visualiser vos données en utilisant la fonction plt.scatter(x, y)."
   ]
  },
  {
   "cell_type": "code",
   "execution_count": 3,
   "metadata": {
    "id": "H1eVmegDfZWM"
   },
   "outputs": [
    {
     "data": {
      "image/png": "[encoded data removed]",
      "text/plain": [
       "<Figure size 640x480 with 1 Axes>"
      ]
     },
     "metadata": {},
     "output_type": "display_data"
    }
   ],
   "source": [
    "plt.scatter(X, y)\n",
    "plt.title('Données de Régression Polynomiale')\n",
    "plt.xlabel('X')\n",
    "plt.ylabel('Y')\n",
    "plt.show()"
   ]
  },
  {
   "cell_type": "markdown",
   "metadata": {
    "id": "ch-MfGTUJFoJ"
   },
   "source": [
    "- `plt.scatter(X, y)`: Cette ligne crée un nuage de points en utilisant la fonction `scatter` de Matplotlib pour afficher les données de régression. La variable `X` est représentée sur l'axe des abscisses et la variable cible `y` sur l'axe des ordonnées.\r\n",
    "- `plt.title('Données de Régression Polynomiale')`: Cette ligne définit le titre du graphique comme \"Données de Régression Polynomiale\", ce qui donne une indication sur la nature des données affichées.\r\n",
    "- `plt.xlabel('X')` et `plt.ylabel('Y')`: Ces lignes ajoutent des étiquettes aux axes x et y respectivement, ce qui est important pour clarifier ce que chaque axe représente.\r\n",
    "- `plt.show()`: Cette ligne affiche le graphique complet avec les données, le titre et les étiquettes d'axes.\r\n"
   ]
  },
  {
   "cell_type": "markdown",
   "metadata": {
    "id": "MYRCQsBreO27"
   },
   "source": [
    "### **Question 4**"
   ]
  },
  {
   "cell_type": "markdown",
   "metadata": {
    "id": "2-hrZ9YbejdZ"
   },
   "source": [
    "4- Définir votre modèle avec SGDRegressor() sur 100 itérations avec un Learning rate de 0.0001."
   ]
  },
  {
   "cell_type": "code",
   "execution_count": 4,
   "metadata": {
    "id": "c9I8zWAIfajH"
   },
   "outputs": [],
   "source": [
    "model = SGDRegressor(max_iter=100, alpha=0.0, learning_rate='constant', eta0=0.0001, random_state=0)\n"
   ]
  },
  {
   "cell_type": "markdown",
   "metadata": {
    "id": "ch-MfGTUJFoJ"
   },
   "source": [
    "- `model = SGDRegressor(max_iter=100, alpha=0.0, learning_rate='constant', eta0=0.0001, random_state=0)`: Cette ligne crée un objet de modèle de régression linéaire en utilisant la classe `SGDRegressor` de scikit-learn pour effectuer une régression stochastique par descente de gradient. Les paramètres spécifiés sont :\r\n",
    "  - `max_iter=100`: le nombre maximum d'itérations pour l'entraînement du modèle, fixé à 100 dans cet exemple.\r\n",
    "  - `alpha=0.0`: le terme de régularisation à zéro (pas de régularisation L2 dans ce cas).\r\n",
    "  - `learning_rate='constant'`: le taux d'apprentissage reste constant tout au long de l'entraînement.\r\n",
    "  - `eta0=0.0001`: le taux d'apprentissage initial (learning rate) est fixé à 0.0001, utilisé dans la mise à jour des poids du modèle lors de la descente de gradient.\r\n",
    "  - `random_state=0`: assure la reproductibilité des résultats en initialisant la génération de nombres aléatoires avec une graine fixe.\r\n"
   ]
  },
  {
   "cell_type": "markdown",
   "metadata": {
    "id": "TeFOXIKjeRsN"
   },
   "source": [
    "### **Question 5**"
   ]
  },
  {
   "cell_type": "markdown",
   "metadata": {
    "id": "KITkRyJTektu"
   },
   "source": [
    "5- Entraîner votre modèle en utilisant la méthode fit()."
   ]
  },
  {
   "cell_type": "code",
   "execution_count": 5,
   "metadata": {
    "id": "m3yDv1jVfc33"
   },
   "outputs": [
    {
     "name": "stderr",
     "output_type": "stream",
     "text": [
      "D:\\Program Files\\anaconda\\Lib\\site-packages\\sklearn\\linear_model\\_stochastic_gradient.py:1548: ConvergenceWarning: Maximum number of iteration reached before convergence. Consider increasing max_iter to improve the fit.\n",
      "  warnings.warn(\n"
     ]
    },
    {
     "data": {
      "text/html": [
       "<style>#sk-container-id-1 {color: black;background-color: white;}#sk-container-id-1 pre{padding: 0;}#sk-container-id-1 div.sk-toggleable {background-color: white;}#sk-container-id-1 label.sk-toggleable__label {cursor: pointer;display: block;width: 100%;margin-bottom: 0;padding: 0.3em;box-sizing: border-box;text-align: center;}#sk-container-id-1 label.sk-toggleable__label-arrow:before {content: \"▸\";float: left;margin-right: 0.25em;color: #696969;}#sk-container-id-1 label.sk-toggleable__label-arrow:hover:before {color: black;}#sk-container-id-1 div.sk-estimator:hover label.sk-toggleable__label-arrow:before {color: black;}#sk-container-id-1 div.sk-toggleable__content {max-height: 0;max-width: 0;overflow: hidden;text-align: left;background-color: #f0f8ff;}#sk-container-id-1 div.sk-toggleable__content pre {margin: 0.2em;color: black;border-radius: 0.25em;background-color: #f0f8ff;}#sk-container-id-1 input.sk-toggleable__control:checked~div.sk-toggleable__content {max-height: 200px;max-width: 100%;overflow: auto;}#sk-container-id-1 input.sk-toggleable__control:checked~label.sk-toggleable__label-arrow:before {content: \"▾\";}#sk-container-id-1 div.sk-estimator input.sk-toggleable__control:checked~label.sk-toggleable__label {background-color: #d4ebff;}#sk-container-id-1 div.sk-label input.sk-toggleable__control:checked~label.sk-toggleable__label {background-color: #d4ebff;}#sk-container-id-1 input.sk-hidden--visually {border: 0;clip: rect(1px 1px 1px 1px);clip: rect(1px, 1px, 1px, 1px);height: 1px;margin: -1px;overflow: hidden;padding: 0;position: absolute;width: 1px;}#sk-container-id-1 div.sk-estimator {font-family: monospace;background-color: #f0f8ff;border: 1px dotted black;border-radius: 0.25em;box-sizing: border-box;margin-bottom: 0.5em;}#sk-container-id-1 div.sk-estimator:hover {background-color: #d4ebff;}#sk-container-id-1 div.sk-parallel-item::after {content: \"\";width: 100%;border-bottom: 1px solid gray;flex-grow: 1;}#sk-container-id-1 div.sk-label:hover label.sk-toggleable__label {background-color: #d4ebff;}#sk-container-id-1 div.sk-serial::before {content: \"\";position: absolute;border-left: 1px solid gray;box-sizing: border-box;top: 0;bottom: 0;left: 50%;z-index: 0;}#sk-container-id-1 div.sk-serial {display: flex;flex-direction: column;align-items: center;background-color: white;padding-right: 0.2em;padding-left: 0.2em;position: relative;}#sk-container-id-1 div.sk-item {position: relative;z-index: 1;}#sk-container-id-1 div.sk-parallel {display: flex;align-items: stretch;justify-content: center;background-color: white;position: relative;}#sk-container-id-1 div.sk-item::before, #sk-container-id-1 div.sk-parallel-item::before {content: \"\";position: absolute;border-left: 1px solid gray;box-sizing: border-box;top: 0;bottom: 0;left: 50%;z-index: -1;}#sk-container-id-1 div.sk-parallel-item {display: flex;flex-direction: column;z-index: 1;position: relative;background-color: white;}#sk-container-id-1 div.sk-parallel-item:first-child::after {align-self: flex-end;width: 50%;}#sk-container-id-1 div.sk-parallel-item:last-child::after {align-self: flex-start;width: 50%;}#sk-container-id-1 div.sk-parallel-item:only-child::after {width: 0;}#sk-container-id-1 div.sk-dashed-wrapped {border: 1px dashed gray;margin: 0 0.4em 0.5em 0.4em;box-sizing: border-box;padding-bottom: 0.4em;background-color: white;}#sk-container-id-1 div.sk-label label {font-family: monospace;font-weight: bold;display: inline-block;line-height: 1.2em;}#sk-container-id-1 div.sk-label-container {text-align: center;}#sk-container-id-1 div.sk-container {/* jupyter's `normalize.less` sets `[hidden] { display: none; }` but bootstrap.min.css set `[hidden] { display: none !important; }` so we also need the `!important` here to be able to override the default hidden behavior on the sphinx rendered scikit-learn.org. See: https://github.com/scikit-learn/scikit-learn/issues/21755 */display: inline-block !important;position: relative;}#sk-container-id-1 div.sk-text-repr-fallback {display: none;}</style><div id=\"sk-container-id-1\" class=\"sk-top-container\"><div class=\"sk-text-repr-fallback\"><pre>SGDRegressor(alpha=0.0, eta0=0.0001, learning_rate=&#x27;constant&#x27;, max_iter=100,\n",
       "             random_state=0)</pre><b>In a Jupyter environment, please rerun this cell to show the HTML representation or trust the notebook. <br />On GitHub, the HTML representation is unable to render, please try loading this page with nbviewer.org.</b></div><div class=\"sk-container\" hidden><div class=\"sk-item\"><div class=\"sk-estimator sk-toggleable\"><input class=\"sk-toggleable__control sk-hidden--visually\" id=\"sk-estimator-id-1\" type=\"checkbox\" checked><label for=\"sk-estimator-id-1\" class=\"sk-toggleable__label sk-toggleable__label-arrow\">SGDRegressor</label><div class=\"sk-toggleable__content\"><pre>SGDRegressor(alpha=0.0, eta0=0.0001, learning_rate=&#x27;constant&#x27;, max_iter=100,\n",
       "             random_state=0)</pre></div></div></div></div></div>"
      ],
      "text/plain": [
       "SGDRegressor(alpha=0.0, eta0=0.0001, learning_rate='constant', max_iter=100,\n",
       "             random_state=0)"
      ]
     },
     "execution_count": 5,
     "metadata": {},
     "output_type": "execute_result"
    }
   ],
   "source": [
    "model.fit(X, y)\n"
   ]
  },
  {
   "cell_type": "markdown",
   "metadata": {
    "id": "ch-MfGTUJFoJ"
   },
   "source": [
    "- `model.fit(X, y)`: Cette ligne entraîne le modèle de régression défini précédemment en utilisant les données d'entraînement `X` et les valeurs cibles `y`. La méthode `fit()` ajuste les paramètres du modèle pour minimiser l'erreur entre les prédictions du modèle et les valeurs réelles dans les données d'entraînement.\r\n"
   ]
  },
  {
   "cell_type": "markdown",
   "metadata": {
    "id": "MYdrlXCSeTcF"
   },
   "source": [
    "### **Question 6**"
   ]
  },
  {
   "cell_type": "markdown",
   "metadata": {
    "id": "RnmTS9P4elap"
   },
   "source": [
    "6- Calculer la précision de votre modèle en utilisant la fonction score qui calcule le coefficient de détermination entre le modèle et les valeurs y de votre Dataset."
   ]
  },
  {
   "cell_type": "code",
   "execution_count": 6,
   "metadata": {
    "id": "ZlX9uhhgfd95"
   },
   "outputs": [
    {
     "name": "stdout",
     "output_type": "stream",
     "text": [
      "Précision du modèle (100 itérations, LR=0.0001) : -0.0727\n"
     ]
    }
   ],
   "source": [
    "accuracy = model.score(X, y)\n",
    "print(f'Précision du modèle (100 itérations, LR=0.0001) : {accuracy:.4f}')"
   ]
  },
  {
   "cell_type": "markdown",
   "metadata": {
    "id": "ch-MfGTUJFoJ"
   },
   "source": [
    "- `accuracy = model.score(X, y)`: Cette ligne calcule la précision du modèle en utilisant la méthode `score()` du modèle de régression. En utilisant les données d'entrée `X` et les valeurs cibles `y`, cette méthode évalue le coefficient de détermination (R²) qui mesure la proportion de variance dans les valeurs cibles expliquée par le modèle. Plus le R² est proche de 1, meilleure est la performance du modèle.\r\n",
    "\r\n",
    "- `print(f'Précision du modèle (100 itérations, LR=0.0001) : {accuracy:.4f}')`: Cette ligne affiche la précision du modèle calculée précédemment. Le formatage `:.4f` permet d'afficher le résultat avec 4 décimales de précision pour une meilleure lisibilité.\r\n"
   ]
  },
  {
   "cell_type": "markdown",
   "metadata": {
    "id": "amYZDuxoeU9V"
   },
   "source": [
    "### **Question 7**"
   ]
  },
  {
   "cell_type": "markdown",
   "metadata": {
    "id": "iLcUTI0memR5"
   },
   "source": [
    "7- Faire de nouvelles prédictions avec la fonction predict() et tracer les résultats."
   ]
  },
  {
   "cell_type": "code",
   "execution_count": 7,
   "metadata": {
    "id": "H1kIs0pSffiL"
   },
   "outputs": [
    {
     "data": {
      "image/png": "[encoded data removed]",
      "text/plain": [
       "<Figure size 640x480 with 1 Axes>"
      ]
     },
     "metadata": {},
     "output_type": "display_data"
    },
    {
     "name": "stdout",
     "output_type": "stream",
     "text": [
      "Précision du modèle (1000 itérations, LR=0.001) : 0.0072\n"
     ]
    },
    {
     "data": {
      "image/png": "[encoded data removed]",
      "text/plain": [
       "<Figure size 640x480 with 1 Axes>"
      ]
     },
     "metadata": {},
     "output_type": "display_data"
    }
   ],
   "source": [
    "X_new = np.linspace(-3, 3, 100).reshape(-1, 1)  # Créer de nouvelles données pour la prédiction\n",
    "y_pred = model.predict(X_new)\n",
    "# Tracer les résultats\n",
    "plt.scatter(X, y, label='Données réelles')\n",
    "plt.plot(X_new, y_pred, color='red', label='Prédictions')\n",
    "plt.title('Régression Polynomiale avec SGDRegressor')\n",
    "plt.xlabel('X')\n",
    "plt.ylabel('Y')\n",
    "plt.legend()\n",
    "plt.show()\n",
    "\n",
    "# Refaire le même travail avec un learning rate plus grand et plus d'itérations\n",
    "model2 = SGDRegressor(max_iter=1000, alpha=0.0, learning_rate='constant', eta0=0.001, random_state=0)\n",
    "model2.fit(X, y)\n",
    "accuracy2 = model2.score(X, y)\n",
    "print(f'Précision du modèle (1000 itérations, LR=0.001) : {accuracy2:.4f}')\n",
    "\n",
    "y_pred2 = model2.predict(X_new)\n",
    "\n",
    "plt.scatter(X, y, label='Données réelles')\n",
    "plt.plot(X_new, y_pred2, color='green', label='Prédictions (LR=0.001)')\n",
    "plt.title('Régression Polynomiale avec SGDRegressor (LR=0.001)')\n",
    "plt.xlabel('X')\n",
    "plt.ylabel('Y')\n",
    "plt.legend()\n",
    "plt.show()"
   ]
  },
  {
   "cell_type": "markdown",
   "metadata": {
    "id": "ch-MfGTUJFoJ"
   },
   "source": [
    "- `X_new = np.linspace(-3, 3, 100).reshape(-1, 1)`: Cette ligne crée de nouvelles données `X_new` pour la prédiction en utilisant `np.linspace` pour générer 100 valeurs linéairement espacées entre -3 et 3, puis `reshape` pour les mettre sous forme de tableau à une seule colonne, nécessaire pour la prédiction du modèle.\r\n",
    "\r\n",
    "- `y_pred = model.predict(X_new)`: Cette ligne utilise la méthode `predict` du modèle pour faire des prédictions sur les nouvelles données `X_new`, donnant ainsi les valeurs prédites `y_pred`.\r\n",
    "\r\n",
    "- Le bloc de code suivant utilise Matplotlib pour créer un graphique montrant les données réelles (`plt.scatter`) ainsi que les prédictions du modèle (`plt.plot`) pour comparer visuellement les résultats. Le titre du graphique, les étiquettes des axes et la légende sont également définis pour une meilleure compréhension du graphique.\r\n"
   ]
  },
  {
   "cell_type": "markdown",
   "metadata": {
    "id": "hkJTlbw2eYTv"
   },
   "source": [
    "### **Question 8**"
   ]
  },
  {
   "cell_type": "markdown",
   "metadata": {
    "id": "GbBL_ckrenyv"
   },
   "source": [
    "8- Refaire le même travail en entraînant votre modèle sur 1000 itérations avec un Learning rate de 0.001."
   ]
  },
  {
   "cell_type": "code",
   "execution_count": 18,
   "metadata": {
    "id": "60W-gRarfgYi"
   },
   "outputs": [
    {
     "name": "stderr",
     "output_type": "stream",
     "text": [
      "D:\\Program Files\\anaconda\\Lib\\site-packages\\sklearn\\utils\\validation.py:1143: DataConversionWarning: A column-vector y was passed when a 1d array was expected. Please change the shape of y to (n_samples, ), for example using ravel().\n",
      "  y = column_or_1d(y, warn=True)\n"
     ]
    },
    {
     "name": "stdout",
     "output_type": "stream",
     "text": [
      "Précision du modèle (1000 itérations, learning rate 0.001) : 0.007161705309513988\n"
     ]
    },
    {
     "data": {
      "image/png": "[encoded data removed]",
      "text/plain": [
       "<Figure size 640x480 with 1 Axes>"
      ]
     },
     "metadata": {},
     "output_type": "display_data"
    }
   ],
   "source": [
    "# Définir le modèle SGDRegressor avec les nouveaux paramètres\n",
    "model_sgd_1000 = SGDRegressor(max_iter=1000, learning_rate='constant', eta0=0.001, random_state=0)\n",
    "\n",
    "# Entraîner le modèle avec 1000 itérations et un learning rate de 0.001\n",
    "model_sgd_1000.fit(X_reg, y_reg)\n",
    "\n",
    "# Calculer la précision du modèle\n",
    "precision_1000 = model_sgd_1000.score(X_reg, y_reg)\n",
    "print(\"Précision du modèle (1000 itérations, learning rate 0.001) :\", precision_1000)\n",
    "\n",
    "# Faire des prédictions avec le modèle sur de nouvelles données\n",
    "y_pred_1000 = model_sgd_1000.predict(X_new)\n",
    "\n",
    "# Tracer les résultats avec le nouveau modèle\n",
    "plt.scatter(X_reg, y_reg, label='Données réelles')\n",
    "plt.plot(X_new, y_pred_1000, color='green', label='Prédictions (1000 itérations, lr 0.001)')\n",
    "plt.xlabel('X')\n",
    "plt.ylabel('y')\n",
    "plt.title('Prédictions du modèle SGDRegressor (1000 itérations, lr 0.001)')\n",
    "plt.legend()\n",
    "plt.show()\n"
   ]
  },
  {
   "cell_type": "markdown",
   "metadata": {
    "id": "ch-MfGTUJFoJ"
   },
   "source": [
    "- `model_sgd_1000 = SGDRegressor(max_iter=1000, learning_rate='constant', eta0=0.001, random_state=0)`: Cette ligne définit un nouveau modèle de régression linéaire avec SGDRegressor en utilisant 1000 itérations et un learning rate de 0.001.\r\n",
    "\r\n",
    "- `model_sgd_1000.fit(X_reg, y_reg)`: Cette ligne entraîne le nouveau modèle avec les données `X_reg` et `y_reg`.\r\n",
    "\r\n",
    "- `precision_1000 = model_sgd_1000.score(X_reg, y_reg)`: Cette ligne calcule la précision du nouveau modèle avec les données d'entraînement.\r\n",
    "\r\n",
    "- `y_pred_1000 = model_sgd_1000.predict(X_new)`: Cette ligne fait des prédictions avec le nouveau modèle sur les nouvelles données `X_new`.\r\n",
    "\r\n",
    "- Les lignes suivantes utilisent Matplotlib pour créer un graphique montrant les données réelles (`plt.scatter`) ainsi que les prédictions du nouveau modèle (`plt.plot`) pour comparer visuellement les résultats du modèle avec un learning rate de 0.001 et 1000 itérations.\r\n"
   ]
  }
 ],
 "metadata": {
  "colab": {
   "provenance": []
  },
  "kernelspec": {
   "display_name": "Python 3 (ipykernel)",
   "language": "python",
   "name": "python3"
  },
  "language_info": {
   "codemirror_mode": {
    "name": "ipython",
    "version": 3
   },
   "file_extension": ".py",
   "mimetype": "text/x-python",
   "name": "python",
   "nbconvert_exporter": "python",
   "pygments_lexer": "ipython3",
   "version": "3.11.7"
  }
 },
 "nbformat": 4,
 "nbformat_minor": 4
}
